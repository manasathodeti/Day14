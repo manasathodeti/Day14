{
 "cells": [
  {
   "cell_type": "code",
   "execution_count": 2,
   "id": "debba0dd-7a84-4503-abcd-4ee9f3f5f457",
   "metadata": {},
   "outputs": [
    {
     "name": "stdin",
     "output_type": "stream",
     "text": [
      "Enter any data..... helooo\n"
     ]
    },
    {
     "name": "stdout",
     "output_type": "stream",
     "text": [
      "\n",
      " latest file content\n",
      "helooo\n"
     ]
    }
   ],
   "source": [
    "with open('Manasa.txt','w+') as file:\n",
    "    text=input(\"Enter any data.....\")\n",
    "    file.write(text)\n",
    "    file.seek(0)\n",
    "    print(\"\\n latest file content\")\n",
    "    print(file.read())"
   ]
  }
 ],
 "metadata": {
  "kernelspec": {
   "display_name": "Python 3 (ipykernel)",
   "language": "python",
   "name": "python3"
  },
  "language_info": {
   "codemirror_mode": {
    "name": "ipython",
    "version": 3
   },
   "file_extension": ".py",
   "mimetype": "text/x-python",
   "name": "python",
   "nbconvert_exporter": "python",
   "pygments_lexer": "ipython3",
   "version": "3.12.7"
  }
 },
 "nbformat": 4,
 "nbformat_minor": 5
}
