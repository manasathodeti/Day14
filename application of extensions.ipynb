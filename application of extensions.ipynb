{
 "cells": [
  {
   "cell_type": "code",
   "execution_count": 2,
   "id": "87e2214c-e66c-4486-b99d-9769289d5ccd",
   "metadata": {},
   "outputs": [
    {
     "name": "stdin",
     "output_type": "stream",
     "text": [
      "enter filename with extension root.txt\n",
      "enter a char to search frequency bicycle\n"
     ]
    },
    {
     "name": "stdout",
     "output_type": "stream",
     "text": [
      "bicycle appears 0 times in the file\n"
     ]
    }
   ],
   "source": [
    "''' write a code that accepts filename as input from the user \n",
    "open the file and count number of times the letter given by the user\n",
    "appears in the file\n",
    "input:s\n",
    "output:4\n",
    "filedata:mississippi'''\n",
    "\n",
    "filename=input(\"enter filename with extension\")\n",
    "with open(filename,'r') as file:\n",
    "    text=file.read()\n",
    "    letter=input(\"enter a char to search frequency\")\n",
    "    count=0\n",
    "    for char in text:\n",
    "        if char==letter:\n",
    "            count+=1\n",
    "print(letter,\"appears\",count,\"times in the file\")"
   ]
  }
 ],
 "metadata": {
  "kernelspec": {
   "display_name": "Python 3 (ipykernel)",
   "language": "python",
   "name": "python3"
  },
  "language_info": {
   "codemirror_mode": {
    "name": "ipython",
    "version": 3
   },
   "file_extension": ".py",
   "mimetype": "text/x-python",
   "name": "python",
   "nbconvert_exporter": "python",
   "pygments_lexer": "ipython3",
   "version": "3.12.7"
  }
 },
 "nbformat": 4,
 "nbformat_minor": 5
}
