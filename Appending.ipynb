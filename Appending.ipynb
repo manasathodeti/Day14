{
 "cells": [
  {
   "cell_type": "code",
   "execution_count": 2,
   "id": "74f72a02-d6e6-4770-b3f8-61c07b7ee51f",
   "metadata": {},
   "outputs": [
    {
     "name": "stdin",
     "output_type": "stream",
     "text": [
      "Enter a line to append data  Thodeti\n"
     ]
    },
    {
     "name": "stdout",
     "output_type": "stream",
     "text": [
      "\n",
      "  current content in the file \n",
      "Manasa\n",
      "Thodeti\n",
      "\n"
     ]
    }
   ],
   "source": [
    "with open('line.txt','a+') as file:\n",
    "    text=input(\"Enter a line to append data \")\n",
    "    file.write(text+'\\n')\n",
    "    file.seek(0)\n",
    "    print(\"\\n  current content in the file \")\n",
    "    print(file.read())"
   ]
  }
 ],
 "metadata": {
  "kernelspec": {
   "display_name": "Python 3 (ipykernel)",
   "language": "python",
   "name": "python3"
  },
  "language_info": {
   "codemirror_mode": {
    "name": "ipython",
    "version": 3
   },
   "file_extension": ".py",
   "mimetype": "text/x-python",
   "name": "python",
   "nbconvert_exporter": "python",
   "pygments_lexer": "ipython3",
   "version": "3.12.7"
  }
 },
 "nbformat": 4,
 "nbformat_minor": 5
}
