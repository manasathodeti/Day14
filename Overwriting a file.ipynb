{
 "cells": [
  {
   "cell_type": "code",
   "execution_count": 9,
   "id": "7b509489-a5b1-4731-bc52-4697260e59a6",
   "metadata": {},
   "outputs": [
    {
     "name": "stdout",
     "output_type": "stream",
     "text": [
      "latest data :\n",
      "My full name is Manasa Thodeti.\n",
      "\n"
     ]
    },
    {
     "name": "stdin",
     "output_type": "stream",
     "text": [
      "\n",
      " enter text to overwrite from begining.... Helloo  this\n"
     ]
    },
    {
     "name": "stdout",
     "output_type": "stream",
     "text": [
      "\n",
      " file after writing by r+\n",
      "Helloo  this is Manasa Thodeti.\n",
      "\n"
     ]
    }
   ],
   "source": [
    "filename='root.txt'\n",
    "with open(filename,'w') as f:\n",
    "    f.write(\"My full name is Manasa Thodeti.\\n\")\n",
    "with open(filename,'r+') as file:\n",
    "    print(\"latest data :\")\n",
    "    print(file.read())\n",
    "    file.seek(0)\n",
    "    userinput=input(\"\\n enter text to overwrite from begining....\")\n",
    "    file.write(userinput)\n",
    "    file.seek(0)\n",
    "    print(\"\\n file after writing by r+\")\n",
    "    print(file.read())"
   ]
  }
 ],
 "metadata": {
  "kernelspec": {
   "display_name": "Python 3 (ipykernel)",
   "language": "python",
   "name": "python3"
  },
  "language_info": {
   "codemirror_mode": {
    "name": "ipython",
    "version": 3
   },
   "file_extension": ".py",
   "mimetype": "text/x-python",
   "name": "python",
   "nbconvert_exporter": "python",
   "pygments_lexer": "ipython3",
   "version": "3.12.7"
  }
 },
 "nbformat": 4,
 "nbformat_minor": 5
}
